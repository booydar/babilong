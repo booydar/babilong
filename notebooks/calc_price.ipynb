{
 "cells": [
  {
   "cell_type": "markdown",
   "metadata": {},
   "source": [
    "100 samples per task"
   ]
  },
  {
   "cell_type": "code",
   "execution_count": 18,
   "metadata": {},
   "outputs": [],
   "source": [
    "lens = [100, 1000, 2_000, 4_000, 8_000, 16_000, 32_000, 64_000]#, 128_000, 256_000]\n",
    "n_samples = [100] * 8\n",
    "\n",
    "def get_price(input_price, output_price, output_tokens = 20):\n",
    "    total_input_tokens = 0\n",
    "    total_output_tokens = 0\n",
    "    for l, n in zip(lens, n_samples):\n",
    "        input_tokens = l\n",
    "        \n",
    "        total_input_tokens += input_tokens * n\n",
    "        total_output_tokens += output_tokens * n\n",
    "\n",
    "    print('For a single QA task')\n",
    "    print(\"Total  input tokens: \", total_input_tokens, total_input_tokens*input_price)\n",
    "    print(\"Total output tokens: \", total_output_tokens, total_output_tokens*output_price)\n",
    "    print('Total price ', total_input_tokens*input_price + total_output_tokens*output_price)"
   ]
  },
  {
   "cell_type": "code",
   "execution_count": 19,
   "metadata": {},
   "outputs": [
    {
     "name": "stdout",
     "output_type": "stream",
     "text": [
      "deepseek-chat (v3) ($)\n",
      "For a single QA task\n",
      "Total  input tokens:  12710000 1.7794\n",
      "Total output tokens:  16000 0.0044800000000000005\n",
      "Total price  1.7838800000000001\n"
     ]
    }
   ],
   "source": [
    "print(\"deepseek-chat (v3) ($)\")\n",
    "input_price = 0.14 / 1_000_000\n",
    "output_price = 0.28 / 1_000_000\n",
    "get_price(input_price, output_price)"
   ]
  },
  {
   "cell_type": "code",
   "execution_count": 20,
   "metadata": {},
   "outputs": [
    {
     "name": "stdout",
     "output_type": "stream",
     "text": [
      "deepseek-chat (R1) ($)\n",
      "For a single QA task\n",
      "Total  input tokens:  12710000 6.9905\n",
      "Total output tokens:  16000 0.035039999999999995\n",
      "Total price  7.02554\n"
     ]
    }
   ],
   "source": [
    "print(\"deepseek-chat (R1) ($)\")\n",
    "input_price = 0.55 / 1_000_000\n",
    "output_price = 2.19 / 1_000_000\n",
    "get_price(input_price, output_price)"
   ]
  },
  {
   "cell_type": "code",
   "execution_count": 17,
   "metadata": {},
   "outputs": [
    {
     "name": "stdout",
     "output_type": "stream",
     "text": [
      "deepseek-chat (R1) ($)\n",
      "For a single QA task\n",
      "Total  input tokens:  12710000 6.9905\n",
      "Total output tokens:  800000 1.7519999999999998\n",
      "Total price  8.7425\n"
     ]
    }
   ],
   "source": [
    "print(\"deepseek-chat (R1) ($)\")\n",
    "input_price = 0.55 / 1_000_000\n",
    "output_price = 2.19 / 1_000_000\n",
    "get_price(input_price, output_price, output_tokens=1000)"
   ]
  },
  {
   "cell_type": "markdown",
   "metadata": {},
   "source": [
    "### 1000 samples per task"
   ]
  },
  {
   "cell_type": "code",
   "execution_count": 27,
   "metadata": {},
   "outputs": [],
   "source": [
    "lens = [100, 1000, 2_000, 4_000, 8_000, 16_000, 32_000, 64_000]#, 128_000, 256_000]\n",
    "n_samples = [1000, 1000, 1000, 1000, 1000, 1000, 1000, 100]\n",
    "\n",
    "def get_price(input_price, output_price, output_tokens = 20):\n",
    "    total_input_tokens = 0\n",
    "    total_output_tokens = 0\n",
    "    for l, n in zip(lens, n_samples):\n",
    "        input_tokens = l\n",
    "        \n",
    "        total_input_tokens += input_tokens * n\n",
    "        total_output_tokens += output_tokens * n\n",
    "\n",
    "    print('For a single QA task')\n",
    "    print(\"Total  input tokens: \", total_input_tokens, total_input_tokens*input_price)\n",
    "    print(\"Total output tokens: \", total_output_tokens, total_output_tokens*output_price)\n",
    "    print('Total price ', total_input_tokens*input_price + total_output_tokens*output_price)"
   ]
  },
  {
   "cell_type": "code",
   "execution_count": 28,
   "metadata": {},
   "outputs": [
    {
     "name": "stdout",
     "output_type": "stream",
     "text": [
      "deepseek-chat (v3) ($)\n",
      "For a single QA task\n",
      "Total  input tokens:  69500000 9.73\n",
      "Total output tokens:  142000 0.039760000000000004\n",
      "Total price  9.76976\n"
     ]
    }
   ],
   "source": [
    "print(\"deepseek-chat (v3) ($)\")\n",
    "input_price = 0.14 / 1_000_000\n",
    "output_price = 0.28 / 1_000_000\n",
    "get_price(input_price, output_price)"
   ]
  },
  {
   "cell_type": "code",
   "execution_count": 29,
   "metadata": {},
   "outputs": [
    {
     "name": "stdout",
     "output_type": "stream",
     "text": [
      "deepseek-chat (R1) ($)\n",
      "For a single QA task\n",
      "Total  input tokens:  69500000 38.225\n",
      "Total output tokens:  142000 0.31098\n",
      "Total price  38.53598\n"
     ]
    }
   ],
   "source": [
    "print(\"deepseek-chat (R1) ($)\")\n",
    "input_price = 0.55 / 1_000_000\n",
    "output_price = 2.19 / 1_000_000\n",
    "get_price(input_price, output_price)"
   ]
  },
  {
   "cell_type": "code",
   "execution_count": 30,
   "metadata": {},
   "outputs": [
    {
     "name": "stdout",
     "output_type": "stream",
     "text": [
      "deepseek-chat (R1) ($)\n",
      "For a single QA task\n",
      "Total  input tokens:  69500000 38.225\n",
      "Total output tokens:  7100000 15.548999999999998\n",
      "Total price  53.774\n"
     ]
    }
   ],
   "source": [
    "print(\"deepseek-chat (R1) ($)\")\n",
    "input_price = 0.55 / 1_000_000\n",
    "output_price = 2.19 / 1_000_000\n",
    "get_price(input_price, output_price, output_tokens=1000)"
   ]
  },
  {
   "cell_type": "code",
   "execution_count": null,
   "metadata": {},
   "outputs": [],
   "source": []
  }
 ],
 "metadata": {
  "kernelspec": {
   "display_name": "Python 3",
   "language": "python",
   "name": "python3"
  },
  "language_info": {
   "codemirror_mode": {
    "name": "ipython",
    "version": 3
   },
   "file_extension": ".py",
   "mimetype": "text/x-python",
   "name": "python",
   "nbconvert_exporter": "python",
   "pygments_lexer": "ipython3",
   "version": "3.11.9"
  }
 },
 "nbformat": 4,
 "nbformat_minor": 2
}
