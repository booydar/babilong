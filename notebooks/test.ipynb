{
 "cells": [
  {
   "cell_type": "code",
   "execution_count": 2,
   "metadata": {},
   "outputs": [],
   "source": [
    "import sys\n",
    "sys.path.append('..')\n",
    "from babilong.babilong_utils import TaskDataset, MultiTaskDataset, SentenceSampler, NoiseInjectionDataset\n",
    "\n"
   ]
  },
  {
   "cell_type": "code",
   "execution_count": 3,
   "metadata": {},
   "outputs": [],
   "source": [
    "babi_path = '/home/jovyan/rmt/babilong/data/tasks_1-20_v1-2/en-10k'\n",
    "task_names = 'qa1_single-supporting-fact;qa2_two-supporting-facts;qa3_three-supporting-facts;qa4_two-arg-relations;qa5_three-arg-relations'.split(';')\n"
   ]
  },
  {
   "cell_type": "code",
   "execution_count": 10,
   "metadata": {},
   "outputs": [
    {
     "name": "stdout",
     "output_type": "stream",
     "text": [
      "facts Mary moved to the bathroom. John went to the hallway.\n",
      "q Where is Mary? \n",
      "a bathroom\n",
      "facts Mary moved to the bathroom. Sandra journeyed to the bedroom. Mary got the football there. John went to the kitchen. Mary went back to the kitchen. Mary went back to the garden.\n",
      "q Where is the football? \n",
      "a garden\n",
      "facts Mary picked up the apple. John went to the office. Mary journeyed to the garden. Mary went to the bedroom.\n",
      "q Where was the apple before the bedroom? \n",
      "a garden\n",
      "facts The office is north of the kitchen. The garden is south of the kitchen.\n",
      "q What is north of the kitchen?\n",
      "a office\n",
      "facts Bill travelled to the office. Bill picked up the football there. Bill went to the bedroom. Bill gave the football to Fred.\n",
      "q What did Bill give to Fred? \n",
      "a football\n"
     ]
    }
   ],
   "source": [
    "for tn in task_names:\n",
    "    p = f\"{babi_path}/{tn}_train.txt\"\n",
    "    d = TaskDataset(p, max_n_facts=10)\n",
    "    s = d[0]\n",
    "    print('facts', ' '.join(s['facts']))\n",
    "    print('q', s['question'])\n",
    "    print('a', s['answer'])"
   ]
  },
  {
   "cell_type": "code",
   "execution_count": 9,
   "metadata": {},
   "outputs": [
    {
     "name": "stdout",
     "output_type": "stream",
     "text": [
      "facts Mary moved to the bathroom. John went to the hallway.\n",
      "q Where is Mary? \n",
      "a bathroom\n"
     ]
    }
   ],
   "source": []
  },
  {
   "cell_type": "code",
   "execution_count": null,
   "metadata": {},
   "outputs": [],
   "source": []
  },
  {
   "cell_type": "code",
   "execution_count": null,
   "metadata": {},
   "outputs": [],
   "source": []
  },
  {
   "cell_type": "code",
   "execution_count": 1,
   "metadata": {},
   "outputs": [],
   "source": [
    "# !git clone https://huggingface.co/datasets/RMT-team/babilong babilong\n",
    "import os, json\n",
    "task = 'qa1'\n",
    "len = '0k'\n",
    "json_path = os.path.join('tmp_data/data', task, len + '.json')\n",
    "with open(json_path, 'r') as f:\n",
    "    ds = json.load(f)\n"
   ]
  },
  {
   "cell_type": "code",
   "execution_count": null,
   "metadata": {},
   "outputs": [],
   "source": [
    "len(ds)"
   ]
  }
 ],
 "metadata": {
  "kernelspec": {
   "display_name": "Python 3",
   "language": "python",
   "name": "python3"
  },
  "language_info": {
   "codemirror_mode": {
    "name": "ipython",
    "version": 3
   },
   "file_extension": ".py",
   "mimetype": "text/x-python",
   "name": "python",
   "nbconvert_exporter": "python",
   "pygments_lexer": "ipython3",
   "version": "3.11.9"
  }
 },
 "nbformat": 4,
 "nbformat_minor": 2
}
